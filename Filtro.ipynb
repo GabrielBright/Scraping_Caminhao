{
 "cells": [
  {
   "cell_type": "markdown",
   "metadata": {},
   "source": [
    "Juntar QueroTruck e Grupo Vamos"
   ]
  },
  {
   "cell_type": "code",
   "execution_count": 4,
   "metadata": {},
   "outputs": [],
   "source": [
    "import pandas as pd\n",
    "\n",
    "arquivo_excel = 'dados_queroTruck_grupoVamos.xlsx'  \n",
    "aba1 = pd.read_excel(arquivo_excel, sheet_name='QueroTruck')  \n",
    "aba2 = pd.read_excel(arquivo_excel, sheet_name='GrupoVamos')  \n",
    "\n",
    "dados_combinados = pd.concat([aba1, aba2], ignore_index=True)\n",
    "\n",
    "colunas_esperadas = ['Marca', 'Modelo', 'Preço', 'Quilometragem', 'Ano', 'Localização']\n",
    "dados_combinados = dados_combinados[colunas_esperadas]\n",
    "\n",
    "dados_combinados.to_excel('dados_queroTruck_grupoVamos.xlsx', index=False)\n"
   ]
  },
  {
   "cell_type": "markdown",
   "metadata": {},
   "source": [
    "Juntar com Truncadão"
   ]
  },
  {
   "cell_type": "code",
   "execution_count": 5,
   "metadata": {},
   "outputs": [],
   "source": [
    "import pandas as pd\n",
    "\n",
    "arquivo_excel1 = 'dados_queroTruck_grupoVamos.xlsx'  \n",
    "arquivo_excel2 = 'dados_trucadao_completos.xlsx'  \n",
    "\n",
    "dados1 = pd.read_excel(arquivo_excel1)  \n",
    "dados2 = pd.read_excel(arquivo_excel2)  \n",
    "\n",
    "dados_combinados = pd.concat([dados1, dados2], ignore_index=True)\n",
    "\n",
    "colunas_esperadas = ['Marca', 'Modelo', 'Preço', 'Quilometragem', 'Ano', 'Localização']\n",
    "dados_combinados = dados_combinados[colunas_esperadas]\n",
    "\n",
    "dados_combinados.to_excel('Caminhoes_Cavalos.xlsx', index=False)"
   ]
  }
 ],
 "metadata": {
  "kernelspec": {
   "display_name": "base",
   "language": "python",
   "name": "python3"
  },
  "language_info": {
   "codemirror_mode": {
    "name": "ipython",
    "version": 3
   },
   "file_extension": ".py",
   "mimetype": "text/x-python",
   "name": "python",
   "nbconvert_exporter": "python",
   "pygments_lexer": "ipython3",
   "version": "3.12.7"
  }
 },
 "nbformat": 4,
 "nbformat_minor": 2
}
